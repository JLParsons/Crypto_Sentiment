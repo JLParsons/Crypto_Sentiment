{
 "cells": [
  {
   "cell_type": "markdown",
   "metadata": {},
   "source": [
    "# Unit 12 - Tales from the Crypto\n",
    "\n",
    "---\n"
   ]
  },
  {
   "cell_type": "markdown",
   "metadata": {},
   "source": [
    "## 1. Sentiment Analysis\n",
    "\n",
    "Use the [newsapi](https://newsapi.org/) to pull the latest news articles for Bitcoin and Ethereum and create a DataFrame of sentiment scores for each coin.\n",
    "\n",
    "Use descriptive statistics to answer the following questions:\n",
    "1. Which coin had the highest mean positive score?\n",
    "2. Which coin had the highest negative score?\n",
    "3. Which coin had the highest positive score?"
   ]
  },
  {
   "cell_type": "code",
   "execution_count": 12,
   "metadata": {},
   "outputs": [
    {
     "name": "stderr",
     "output_type": "stream",
     "text": [
      "[nltk_data] Downloading package vader_lexicon to\n",
      "[nltk_data]     C:\\Users\\thejp\\AppData\\Roaming\\nltk_data...\n",
      "[nltk_data]   Package vader_lexicon is already up-to-date!\n"
     ]
    },
    {
     "data": {
      "text/plain": [
       "True"
      ]
     },
     "execution_count": 12,
     "metadata": {},
     "output_type": "execute_result"
    }
   ],
   "source": [
    "# Initial imports\n",
    "import os\n",
    "import pandas as pd\n",
    "from dotenv import load_dotenv\n",
    "import nltk as nltk\n",
    "nltk.download('vader_lexicon')\n",
    "from nltk.sentiment.vader import SentimentIntensityAnalyzer\n",
    "analyzer = SentimentIntensityAnalyzer()\n",
    "import newsapi\n",
    "from newsapi.newsapi_client import NewsApiClient\n",
    "\n",
    "%matplotlib inline\n",
    "load_dotenv()"
   ]
  },
  {
   "cell_type": "code",
   "execution_count": 18,
   "metadata": {},
   "outputs": [
    {
     "data": {
      "text/plain": [
       "True"
      ]
     },
     "execution_count": 18,
     "metadata": {},
     "output_type": "execute_result"
    }
   ],
   "source": [
    "# Read your api key environment variable\n",
    "load_dotenv()\n",
    " "
   ]
  },
  {
   "cell_type": "code",
   "execution_count": 19,
   "metadata": {},
   "outputs": [],
   "source": [
    "api_key = os.getenv(\"NEWS_API\")\n"
   ]
  },
  {
   "cell_type": "code",
   "execution_count": 20,
   "metadata": {},
   "outputs": [],
   "source": [
    "# Create a newsapi client\n",
    "newsapi = NewsApiClient(api_key=api_key)\n"
   ]
  },
  {
   "cell_type": "code",
   "execution_count": 21,
   "metadata": {},
   "outputs": [
    {
     "data": {
      "text/plain": [
       "{'status': 'ok',\n",
       " 'totalResults': 916,\n",
       " 'articles': [{'source': {'id': 'financial-post', 'name': 'Financial Post'},\n",
       "   'author': 'Bloomberg News',\n",
       "   'title': 'Bitcoin crashes as El Salvador rollout, price pump falter - Financial Post',\n",
       "   'description': '<ol><li>Bitcoin crashes as El Salvador rollout, price pump falter\\xa0\\xa0Financial Post\\r\\n</li><li>Bitcoin, now legal tender in El Salvador, greeted with tech problems, volatility concerns\\xa0\\xa0CBC.ca\\r\\n</li><li>Salvador street protest breaks out against bitcoin adoption…',\n",
       "   'url': 'https://financialpost.com/fp-finance/cryptocurrency/bitcoin-crashes-as-el-salvador-adoption-price-pump-falters',\n",
       "   'urlToImage': 'https://smartcdn.prod.postmedia.digital/financialpost/wp-content/uploads/2021/09/vw0907bitcoin-el-salvador.jpg',\n",
       "   'publishedAt': '2021-09-07T16:05:52Z',\n",
       "   'content': 'Plunges as much as 17 per cent to US$43,050 \\r\\nA woman holds a banner that reads \"No to bitcoin\" during a demonstration against the circulation of bitcoin in San Salvador, on Sept. 7, 2021.Photo by Ma… [+5898 chars]'},\n",
       "  {'source': {'id': None, 'name': 'Penny Stocks'},\n",
       "   'author': 'J. Samuel',\n",
       "   'title': '7 Penny Stocks Benefiting Big From Bitcoin & Dogecoin Right Now',\n",
       "   'description': 'Bitcoin &#038; Blockchain Penny Stocks Get A Boost Today',\n",
       "   'url': 'https://pennystocks.com/featured/2021/08/20/7-penny-stocks-benefiting-big-from-bitcoin-dogecoin-right-now/',\n",
       "   'urlToImage': 'https://assets.entrepreneur.com/providers/pennystocks/hero-image-pennystocks-380849-1629475329.jpeg',\n",
       "   'publishedAt': '2021-08-20T15:55:57Z',\n",
       "   'content': 'August\\r\\n20, 2021\\r\\n8 min read\\r\\nThis story originally appeared on PennyStocksBitcoin Price Surge Helped Boost These Penny Stocks\\r\\nThanks to a surge in the price of Bitcoin, Dogecoin, and Ethereum, seve… [+9458 chars]'},\n",
       "  {'source': {'id': 'reuters', 'name': 'Reuters'},\n",
       "   'author': 'John Foley',\n",
       "   'title': \"Cardano joins crypto's creative destruction loop - Reuters\",\n",
       "   'description': 'Watch out, bitcoin and ether. Cryptocurrency platform Cardano had its ADA token pass the $3 mark for the first on Sept. 1, just weeks after becoming the world’s third-biggest virtual tender. While its total value at that price of $96 billion is roughly a fift…',\n",
       "   'url': 'https://www.reuters.com/breakingviews/cardano-joins-cryptos-creative-destruction-loop-2021-09-02/',\n",
       "   'urlToImage': 'https://www.reuters.com/resizer/ueJtkjyeNWawC2EeRlrxZljHXpM=/1200x628/smart/filters:quality(80)/cloudfront-us-east-2.images.arcpublishing.com/reuters/6UVNR3WPMRJC3G7S6WGOMPMYNE.jpg',\n",
       "   'publishedAt': '2021-09-03T00:57:00Z',\n",
       "   'content': 'Representations of cryptocurrencies Bitcoin, Ethereum, DogeCoin, Ripple, Litecoin are placed on PC motherboard in this illustration taken, June 29, 2021. REUTERS/Dado Ruvic/Illustration NEW YORK, Sep… [+2712 chars]'},\n",
       "  {'source': {'id': None, 'name': 'SciTechDaily'},\n",
       "   'author': None,\n",
       "   'title': 'Experiments Prove Quantum Computing Errors Correlated, Tied to Cosmic Rays - SciTechDaily',\n",
       "   'description': '<ol><li>Experiments Prove Quantum Computing Errors Correlated, Tied to Cosmic Rays\\xa0\\xa0SciTechDaily\\r\\n</li><li>Quantum computing will break Bitcoin, expert warns as Google takes leaps\\xa0\\xa0Crypto News Flash\\r\\n</li><li>New discoveries remove important design barriers\\xa0\\xa0…',\n",
       "   'url': 'https://scitechdaily.com/experiments-prove-quantum-computing-errors-correlated-tied-to-cosmic-rays/',\n",
       "   'urlToImage': 'https://scitechdaily.com/images/Qubits-Cosmic-Rays.jpg',\n",
       "   'publishedAt': '2021-08-23T11:14:13Z',\n",
       "   'content': 'In experiments performed at the University of Wisconsin-Madison, researchers found that fluctuations in the electrical charge of multiple quantum bits, or “qubits,” can be highly correlated, as oppos… [+8607 chars]'},\n",
       "  {'source': {'id': 'reuters', 'name': 'Reuters'},\n",
       "   'author': 'Susan Mathew',\n",
       "   'title': 'EMERGING MARKETS-China Evergrande bonds slump, El Salvador begins bitcoin experiment - Reuters',\n",
       "   'description': \"The bonds of Chinese property conglomerate Evergrande slumped on Tuesday after another downgrade, this time from Moody's, while a broad index of emerging market shares struggled to keep hold of gains made after upbeat China export data.\",\n",
       "   'url': 'https://www.reuters.com/article/emerging-markets-idUSL8N2Q91L7',\n",
       "   'urlToImage': 'https://s1.reutersmedia.net/resources_v2/images/rcom-default.png?w=800',\n",
       "   'publishedAt': '2021-09-07T09:03:00Z',\n",
       "   'content': 'Sept 7 (Reuters) - The bonds of Chinese property conglomerate Evergrande slumped on Tuesday after another downgrade, this time from Moodys, while a broad index of emerging market shares struggled to … [+2955 chars]'},\n",
       "  {'source': {'id': None, 'name': 'Entrepreneur'},\n",
       "   'author': 'Ian Khan',\n",
       "   'title': 'Confused by Bitcoin and Crypto? Help is on the way.',\n",
       "   'description': 'A new documentary promises to bring clarity and exposure to some key crypto facts.',\n",
       "   'url': 'https://www.entrepreneur.com/article/377790',\n",
       "   'urlToImage': 'https://assets.entrepreneur.com/content/3x2/2000/1629122980-bitcoin-dilemma.jpg',\n",
       "   'publishedAt': '2021-08-18T22:30:00Z',\n",
       "   'content': 'August\\r\\n18, 2021\\r\\n3 min read\\r\\nOpinions expressed by Entrepreneur contributors are their own.\\r\\nEarlier this year,\\xa0as the world was continuing to battle the pandemic, a unique thing started to happen. … [+2900 chars]'},\n",
       "  {'source': {'id': None, 'name': 'Entrepreneur'},\n",
       "   'author': 'Hamid Ganji',\n",
       "   'title': 'Is Bitcoin Actually Reliable Enough to Be Known as an Official Currency?',\n",
       "   'description': 'El Salvador hopes to use Bitcoin as a legal tender, but there are multiple obstacles.',\n",
       "   'url': 'https://www.entrepreneur.com/article/377663',\n",
       "   'urlToImage': 'https://assets.entrepreneur.com/content/3x2/2000/1629132043-shutterstock-788517151.jpg',\n",
       "   'publishedAt': '2021-08-24T11:00:00Z',\n",
       "   'content': 'August\\r\\n24, 2021\\r\\n8 min read\\r\\nOpinions expressed by Entrepreneur contributors are their own.\\r\\nEl Salvador’s move to turn Bitcoin\\xa0into a legal tender created a sense of optimism for market improvement… [+8340 chars]'},\n",
       "  {'source': {'id': None, 'name': 'Yahoo Entertainment'},\n",
       "   'author': 'CBS News Videos',\n",
       "   'title': 'Biden plans new steps to boost COVID-19 vaccinations and fight pandemic',\n",
       "   'description': \"President Biden will lay out his administration's latest plans to fight COVID-19 later today. CBS News chief White House correspondent Nancy Cordes joins...\",\n",
       "   'url': 'https://news.yahoo.com/biden-plans-steps-boost-covid-145747272.html',\n",
       "   'urlToImage': 'https://s.yimg.com/ny/api/res/1.2/EAeseoZ_kMO1PLyyGvob_Q--/YXBwaWQ9aGlnaGxhbmRlcjt3PTEyMDA7aD02NzU-/https://s.yimg.com/hd/cp-video-transcode/prod/2021-09/09/613a24ec8346ba45ba75964d/613a24ec8346ba45ba75964e_o_U_v2.jpg',\n",
       "   'publishedAt': '2021-09-09T14:57:47Z',\n",
       "   'content': 'BEIJING (Reuters) -When Xi Jinping took command of the Communist Party in late 2012 and proclaimed \"only socialism can save China\", it was largely ignored as the perfunctory mention of an antiquated … [+642 chars]'},\n",
       "  {'source': {'id': None, 'name': 'Yahoo Entertainment'},\n",
       "   'author': 'CBS News Videos',\n",
       "   'title': 'First civilian flight departs Afghanistan following U.S. withdrawal',\n",
       "   'description': 'The first passenger flight carrying international citizens departed from Kabul, Afghanistan, following the withdrawal of U.S. forces. CBS News senior foreign...',\n",
       "   'url': 'https://news.yahoo.com/first-civilian-flight-departs-afghanistan-232326738.html',\n",
       "   'urlToImage': 'https://s.yimg.com/hd/cp-video-transcode/prod/2021-09/09/613a990633777a72b60471aa/613a990633777a72b60471ab_o_U_v2.jpg',\n",
       "   'publishedAt': '2021-09-09T23:23:26Z',\n",
       "   'content': 'BEIJING (Reuters) -When Xi Jinping took command of the Communist Party in late 2012 and proclaimed \"only socialism can save China\", it was largely ignored as the perfunctory mention of an antiquated … [+642 chars]'},\n",
       "  {'source': {'id': None, 'name': 'The Motley Fool Canada'},\n",
       "   'author': None,\n",
       "   'title': 'Got $1,000? Turn it Into $10,000 With These Growth Stocks - The Motley Fool Canada',\n",
       "   'description': '<ol><li>Got $1,000? Turn it Into $10,000 With These Growth Stocks\\xa0\\xa0The Motley Fool Canada\\r\\n</li><li>2 TSX Bargains to Buy This Instant\\xa0\\xa0Yahoo Canada Finance\\r\\n</li><li>Suncor Energy: Buy Boring 3.50% Yield And Wait For Exciting Near-10% Yield\\xa0\\xa0Seeking Alpha\\r\\n<…',\n",
       "   'url': 'https://www.fool.ca/2021/08/30/got-1000-turn-it-into-10000-with-these-growth-stocks/',\n",
       "   'urlToImage': 'https://www.fool.ca/wp-content/uploads/2020/10/grow.jpg',\n",
       "   'publishedAt': '2021-08-30T12:27:05Z',\n",
       "   'content': 'The S&amp;P/TSX Composite Index rose 140 points on August 27 to close out the final full week of the month. Base metals, energy, and information technology sectors all performed well on the day. Nort… [+2956 chars]'},\n",
       "  {'source': {'id': 'reuters', 'name': 'Reuters'},\n",
       "   'author': 'Samantha Mansfield',\n",
       "   'title': 'For tax & accounting firms, the time to learn blockchain is now - Reuters',\n",
       "   'description': 'One question these professions should be asking is: Which technology will create the most impactful transformation — artificial intelligence (AI), robotic process automation (RPA), cloud use, or blockchain?',\n",
       "   'url': 'https://www.reuters.com/legal/transactional/tax-accounting-firms-time-learn-blockchain-is-now-2021-08-20/',\n",
       "   'urlToImage': 'https://www.reuters.com/resizer/IWeSjY2xx-NEJLJX-6RrvXpRTDg=/1200x628/smart/filters:quality(80)/cloudfront-us-east-2.images.arcpublishing.com/reuters/I5PJOEHQPFGIHPNW3XCPMBGYPY.JPG',\n",
       "   'publishedAt': '2021-08-20T13:48:00Z',\n",
       "   'content': 'A representations of cryptocurrency Bitcoin and Binance is seen in this illustration taken August 6, 2021. REUTERS/Dado Ruvic/IllustrationThe company and law firm names shown above are generated auto… [+7445 chars]'},\n",
       "  {'source': {'id': 'business-insider', 'name': 'Business Insider'},\n",
       "   'author': 'hrobertson@businessinsider.com (Harry Robertson)',\n",
       "   'title': 'A Premier League soccer team will sport the dogecoin logo on its jerseys as the meme token hits the soccer world, report says',\n",
       "   'description': 'Forget about the moon, meme cryptocurrency dogecoin is heading to the Premier League, according to a report.',\n",
       "   'url': 'https://www.businessinsider.com/dogecoin-watford-fc-premier-league-soccer-crypto-2021-8',\n",
       "   'urlToImage': 'https://i.insider.com/60801ea944f4540019207e5a?width=1200&format=jpeg',\n",
       "   'publishedAt': '2021-08-15T11:26:44Z',\n",
       "   'content': \"Dogecoin may not be heading to the moon\\xa0but it's heading to the Premier League.\\r\\nPlayers for Watford FC, which was promoted to the world's richest soccer league this year, will wear a dogecoin logo o… [+2118 chars]\"},\n",
       "  {'source': {'id': 'reuters', 'name': 'Reuters'},\n",
       "   'author': 'Susan Mathew',\n",
       "   'title': 'EMERGING MARKETS-Stocks, FX slide on growth worries; yuan firms on c.bank stance - Reuters',\n",
       "   'description': 'EMERGING MARKETS-Stocks, FX slide on growth worries; yuan firms on c.bank stance\\xa0\\xa0Reuters',\n",
       "   'url': 'https://www.reuters.com/article/emerging-markets-idUSL1N2QA0KA',\n",
       "   'urlToImage': 'https://s1.reutersmedia.net/resources_v2/images/rcom-default.png?w=800',\n",
       "   'publishedAt': '2021-09-08T09:14:00Z',\n",
       "   'content': '* China c.bank to stay prudent; yuan rises\\r\\n* Evergrande bonds continue fall\\r\\n* Zloty flat ahead of cenbank meeting\\r\\n* MSCI relegates Pakistan stocks to frontier markets status\\r\\n* El Salvador bonds f… [+2920 chars]'},\n",
       "  {'source': {'id': 'business-insider', 'name': 'Business Insider'},\n",
       "   'author': 'egraffeo@businessinsider.com (Emily Graffeo)',\n",
       "   'title': 'Taiwan police arrest 14 suspects who allegedly ran a crypto scam worth $5.4 million, report says',\n",
       "   'description': '14 people have reportedly been arrested by police in Taiwan in connection with a $5.41 million crypto investment scam according to The Taipei Times.',\n",
       "   'url': 'https://markets.businessinsider.com/news/currencies/crypto-scam-taiwan-police-arrests-ether-tether-fraud-2021-9',\n",
       "   'urlToImage': 'https://images2.markets.businessinsider.com/6137af01eedea900193d6aaf?format=jpeg',\n",
       "   'publishedAt': '2021-09-07T19:10:16Z',\n",
       "   'content': \"Representation of Bitcoin cryptocurrency is seen in this illustration photo\\r\\nGetty Images\\r\\nTaiwan's police administration arrested 14 people in connection with a cryptocurrency investment scam that d… [+1451 chars]\"},\n",
       "  {'source': {'id': None, 'name': 'Penny Stocks'},\n",
       "   'author': 'J. Phillip',\n",
       "   'title': 'Top Penny Stocks To Watch To Stay Ahead in September 2021',\n",
       "   'description': 'Which penny stocks are on your September watchlist?',\n",
       "   'url': 'https://pennystocks.com/featured/2021/08/25/top-penny-stocks-ahead-september-2021/',\n",
       "   'urlToImage': 'https://assets.entrepreneur.com/providers/pennystocks/hero-image-pennystocks-381701.jpeg',\n",
       "   'publishedAt': '2021-08-25T20:15:00Z',\n",
       "   'content': 'August\\r\\n25, 2021\\r\\n6 min read\\r\\nThis story originally appeared on PennyStocksAre These 3 Penny Stocks on Your September Watchlist?\\r\\nFinding the best penny stocks for your watchlist can be a challenge w… [+6625 chars]'},\n",
       "  {'source': {'id': None, 'name': 'Penny Stocks'},\n",
       "   'author': 'J. Samuel',\n",
       "   'title': '5 Penny Stocks That Turned $2,500 Into Over $29,000 In 2021 So Far',\n",
       "   'description': 'Hot Penny Stocks That Scored Huge For Traders In 2021',\n",
       "   'url': 'https://pennystocks.com/featured/2021/08/24/5-penny-stocks-turned-2500-over-29000-in-2021-so-far/',\n",
       "   'urlToImage': 'https://assets.entrepreneur.com/providers/pennystocks/hero-image-pennystocks-381268.jpeg',\n",
       "   'publishedAt': '2021-08-24T15:28:36Z',\n",
       "   'content': 'August\\r\\n24, 2021\\r\\n8 min read\\r\\nThis story originally appeared on PennyStocksWere These The Best Penny Stocks Of 2021 So Far?\\r\\nIf the pandemic taught us 1 thing, it’s that penny stocks aren’t just shar… [+8623 chars]'},\n",
       "  {'source': {'id': None, 'name': 'Zacks.com'},\n",
       "   'author': 'Jeremy Mullin',\n",
       "   'title': 'Bull of the Day: Best Buy (BBY)',\n",
       "   'description': 'Strong earnings bring value investors into Best Buy.',\n",
       "   'url': 'http://www.zacks.com/commentary/1794459/bull-of-the-day-best-buy-bby?cid=CS-ENTREPRENEUR-FT-bull_of_the_day-1794459',\n",
       "   'urlToImage': 'https://assets.entrepreneur.com/providers/zacks/hero-image-zacks-384857.jpeg',\n",
       "   'publishedAt': '2021-09-10T10:30:00Z',\n",
       "   'content': 'Best Buy (BBY) is a Zacks Rank #1 (Strong Buy) that is a popular electronics retailer. The company specializes in consumer electronics, home office products, entertainment software, communication, fo… [+5460 chars]'},\n",
       "  {'source': {'id': 'business-insider', 'name': 'Business Insider'},\n",
       "   'author': 'rhouston@businessinsider.com (Rickie Houston, CEPF)',\n",
       "   'title': 'BlockFi vs. Coinbase: How the crypto exchanges compare',\n",
       "   'description': \"BlockFi and Coinbase both offer crypto trading, interest rewards, and crypto-backed loans, but each platform's fees and features vary.\",\n",
       "   'url': 'https://www.businessinsider.com/personal-finance/blockfi-vs-coinbase',\n",
       "   'urlToImage': 'https://i.insider.com/61390d3eeedea900193dacf0?width=1200&format=jpeg',\n",
       "   'publishedAt': '2021-09-08T21:33:33Z',\n",
       "   'content': 'Personal Finance Insider writes about products, strategies, and tips to help you make smart decisions with your money. We may receive a small commission from our partners, like American Express, but … [+6018 chars]'},\n",
       "  {'source': {'id': None, 'name': 'MarketWatch'},\n",
       "   'author': 'Mark DeCambre',\n",
       "   'title': 'ETF Wrap: Who needs a bitcoin ETF, anyway? It may hold little value for investors now—Here’s why.',\n",
       "   'description': 'Every week we highlight the most timely exchange-traded fund news, from new launches to inflows and performance.',\n",
       "   'url': 'https://www.marketwatch.com/story/who-needs-a-bitcoin-etf-anyway-it-may-hold-little-value-for-investors-nowheres-why-11630600714',\n",
       "   'urlToImage': 'https://images.mktw.net/im-337931/social',\n",
       "   'publishedAt': '2021-09-02T16:38:00Z',\n",
       "   'content': 'Hi there, again! Im flooded. There is at least 3 inches of water in my basement in New Jersey. All thanks to what the media (hey, thats me) is referring to as the remnants of Hurricane Ida. Anyway, w… [+6867 chars]'},\n",
       "  {'source': {'id': 'the-next-web', 'name': 'The Next Web'},\n",
       "   'author': 'Tristan Greene',\n",
       "   'title': 'WTF is Science Corp? Neuralink co-founder creates secretive brain-hacking company',\n",
       "   'description': 'Did you know\\xa0Neural\\xa0is taking the stage this fall? Together with an amazing line-up of experts, we will explore the future of AI during TNW Conference 2021.\\xa0Secure your online ticket now! It’s tough out there for a supervillain. All the best talent goes to Go…',\n",
       "   'url': 'https://thenextweb.com/news/science-corp-neuralink-co-founder-brain-hacking-company',\n",
       "   'urlToImage': 'https://img-cdn.tnwcdn.com/image/neural?filter_last=1&fit=1280%2C640&url=https%3A%2F%2Fcdn0.tnwcdn.com%2Fwp-content%2Fblogs.dir%2F1%2Ffiles%2F2021%2F08%2Fbrainhacker.jpg&signature=cfff5233fef3bc3573004c6089f68408',\n",
       "   'publishedAt': '2021-08-27T17:42:34Z',\n",
       "   'content': 'Did you know\\xa0Neural\\xa0is taking the stage this fall? Together with an amazing line-up of experts, we will explore the future of AI during TNW Conference 2021.\\xa0Secure your online ticket now!\\r\\nIts tough … [+3280 chars]'}]}"
      ]
     },
     "execution_count": 21,
     "metadata": {},
     "output_type": "execute_result"
    }
   ],
   "source": [
    "# Fetch the Bitcoin news articles\n",
    "#bitcoin_news = newsapi[newsapi[\"language\"] == \"en\"]\n",
    "bitcoin = newsapi.get_everything(\n",
    "    q=\"bitcoin AND news AND 2021\",\n",
    "    language=\"en\"\n",
    ")\n",
    "bitcoin"
   ]
  },
  {
   "cell_type": "code",
   "execution_count": 22,
   "metadata": {},
   "outputs": [
    {
     "data": {
      "text/plain": [
       "{'status': 'ok',\n",
       " 'totalResults': 386,\n",
       " 'articles': [{'source': {'id': 'bbc-news', 'name': 'BBC News'},\n",
       "   'author': 'https://www.facebook.com/bbcnews',\n",
       "   'title': 'Cryptocurrency heist hacker returns $260m in funds',\n",
       "   'description': 'The hacker behind the $600m Poly Network cryptocurrency heist has posted a Q&A on the blockchain.',\n",
       "   'url': 'https://www.bbc.co.uk/news/business-58180692',\n",
       "   'urlToImage': 'https://ichef.bbci.co.uk/news/1024/branded_news/10F22/production/_119901496_hacking1.jpg',\n",
       "   'publishedAt': '2021-08-11T23:10:49Z',\n",
       "   'content': 'By Mary-Ann RussonBusiness reporter, BBC News\\r\\nThe hacker behind one of the largest ever cryptocurrency heists ever has returned almost half of the $600m (£433m) stolen assets.\\r\\nYesterday, blockchain… [+5117 chars]'},\n",
       "  {'source': {'id': 'reuters', 'name': 'Reuters'},\n",
       "   'author': 'John Foley',\n",
       "   'title': \"Cardano joins crypto's creative destruction loop - Reuters\",\n",
       "   'description': 'Watch out, bitcoin and ether. Cryptocurrency platform Cardano had its ADA token pass the $3 mark for the first on Sept. 1, just weeks after becoming the world’s third-biggest virtual tender. While its total value at that price of $96 billion is roughly a fift…',\n",
       "   'url': 'https://www.reuters.com/breakingviews/cardano-joins-cryptos-creative-destruction-loop-2021-09-02/',\n",
       "   'urlToImage': 'https://www.reuters.com/resizer/ueJtkjyeNWawC2EeRlrxZljHXpM=/1200x628/smart/filters:quality(80)/cloudfront-us-east-2.images.arcpublishing.com/reuters/6UVNR3WPMRJC3G7S6WGOMPMYNE.jpg',\n",
       "   'publishedAt': '2021-09-03T00:57:00Z',\n",
       "   'content': 'Representations of cryptocurrencies Bitcoin, Ethereum, DogeCoin, Ripple, Litecoin are placed on PC motherboard in this illustration taken, June 29, 2021. REUTERS/Dado Ruvic/Illustration NEW YORK, Sep… [+2712 chars]'},\n",
       "  {'source': {'id': 'techcrunch', 'name': 'TechCrunch'},\n",
       "   'author': 'Lucas Matney',\n",
       "   'title': 'CryptoPunks blast past $1 billion in lifetime sales as NFT market goes wild',\n",
       "   'description': 'Hello friends, and welcome back to Week in Review! Last week we dove into Bezos’s Blue Origin suing NASA. This week, I’m writing about the unlikely and triumphant resurgence of the NFT market. If you’re reading this on the TechCrunch site, you can get this in…',\n",
       "   'url': 'http://techcrunch.com/2021/08/28/cryptopunks-blast-past-1-billion-in-lifetime-sales-as-nft-market-goes-wild/',\n",
       "   'urlToImage': 'https://techcrunch.com/wp-content/uploads/2021/04/Untitled-8.jpg?w=640',\n",
       "   'publishedAt': '2021-08-28T18:48:47Z',\n",
       "   'content': 'Hello friends, and welcome back to Week in Review! Last week we dove into Bezos’s Blue Origin suing NASA. This week, I’m writing about the unlikely and triumphant resurgence of the NFT market.\\r\\nIf yo… [+6983 chars]'},\n",
       "  {'source': {'id': 'business-insider', 'name': 'Business Insider'},\n",
       "   'author': 'rhouston@businessinsider.com (Rickie Houston, CEPF)',\n",
       "   'title': 'Crypto.com review: Trade more than 90 cryptocurrencies with as little as $1',\n",
       "   'description': 'Global crypto exchange Crypto.com offers more than 90 cryptocurrencies, and lets US customers start trading with as little as $1.',\n",
       "   'url': 'https://www.businessinsider.com/personal-finance/cryptocom-review',\n",
       "   'urlToImage': 'https://i.insider.com/61252099de5f560019e87f09?width=1200&format=jpeg',\n",
       "   'publishedAt': '2021-08-27T20:55:45Z',\n",
       "   'content': 'Personal Finance Insider writes about products, strategies, and tips to help you make smart decisions with your money. We may receive a small commission from our partners, like American Express, but … [+5979 chars]'},\n",
       "  {'source': {'id': 'business-insider', 'name': 'Business Insider'},\n",
       "   'author': 'rhouston@businessinsider.com (Rickie Houston, CEPF)',\n",
       "   'title': 'BlockFi vs. Coinbase: How the crypto exchanges compare',\n",
       "   'description': \"BlockFi and Coinbase both offer crypto trading, interest rewards, and crypto-backed loans, but each platform's fees and features vary.\",\n",
       "   'url': 'https://www.businessinsider.com/personal-finance/blockfi-vs-coinbase',\n",
       "   'urlToImage': 'https://i.insider.com/61390d3eeedea900193dacf0?width=1200&format=jpeg',\n",
       "   'publishedAt': '2021-09-08T21:33:33Z',\n",
       "   'content': 'Personal Finance Insider writes about products, strategies, and tips to help you make smart decisions with your money. We may receive a small commission from our partners, like American Express, but … [+6018 chars]'},\n",
       "  {'source': {'id': None, 'name': 'Penny Stocks'},\n",
       "   'author': 'J. Samuel',\n",
       "   'title': '7 Penny Stocks Benefiting Big From Bitcoin & Dogecoin Right Now',\n",
       "   'description': 'Bitcoin &#038; Blockchain Penny Stocks Get A Boost Today',\n",
       "   'url': 'https://pennystocks.com/featured/2021/08/20/7-penny-stocks-benefiting-big-from-bitcoin-dogecoin-right-now/',\n",
       "   'urlToImage': 'https://assets.entrepreneur.com/providers/pennystocks/hero-image-pennystocks-380849-1629475329.jpeg',\n",
       "   'publishedAt': '2021-08-20T15:55:57Z',\n",
       "   'content': 'August\\r\\n20, 2021\\r\\n8 min read\\r\\nThis story originally appeared on PennyStocksBitcoin Price Surge Helped Boost These Penny Stocks\\r\\nThanks to a surge in the price of Bitcoin, Dogecoin, and Ethereum, seve… [+9458 chars]'},\n",
       "  {'source': {'id': None, 'name': 'AppleInsider'},\n",
       "   'author': 'news@appleinsider.com (William Gallagher)',\n",
       "   'title': 'Cryptocurrency platform Poly Network hack steals $600 million',\n",
       "   'description': 'Poly Network, the cryptocurrency interoperability protocol, says that it has been hacked and more than $600 million in assorted cryptocurrency was stolen.While individuals have attempted various cryptocurrency related scams, now the Poly Network has taken to …',\n",
       "   'url': 'https://appleinsider.com/articles/21/08/11/cryptocurrency-platform-poly-network-hack-steals-600-million',\n",
       "   'urlToImage': 'https://photos5.appleinsider.com/gallery/43394-84331-bitcoin-pile-xl.jpg',\n",
       "   'publishedAt': '2021-08-11T10:46:37Z',\n",
       "   'content': 'Poly Network, the cryptocurrency interoperability protocol, says that it has been hacked and more than $600 million in assorted cryptocurrency was stolen. \\r\\nWhile individuals have attempted various c… [+1082 chars]'},\n",
       "  {'source': {'id': None, 'name': 'Digital Trends'},\n",
       "   'author': 'Jacob Roach',\n",
       "   'title': 'GPU prices rising again after they had been falling',\n",
       "   'description': 'Falling prices signaled that the GPU shortage was coming to an end, but recent data suggests that Nvidia and AMD prices are on the rise again.',\n",
       "   'url': 'https://www.digitaltrends.com/computing/gpu-prices-dropping-rising-again/',\n",
       "   'urlToImage': 'https://icdn.digitaltrends.com/image/digitaltrends/nvidia-rtx-3060-ti-featured.jpg',\n",
       "   'publishedAt': '2021-08-30T14:44:04Z',\n",
       "   'content': 'Despite trending downward over the past few months, GPU prices are starting to rise again. German outfit 3D Center published its GPU market report on Monday, and it shows a slight uptick in the price… [+3194 chars]'},\n",
       "  {'source': {'id': None, 'name': 'Entrepreneur'},\n",
       "   'author': 'Matt Wasserlauf',\n",
       "   'title': \"When It Comes to Video Marketing, Don't Underestimate the Power of Frequency\",\n",
       "   'description': 'In the past, one TV commercial could reach tens of millions of people at once. Those days are gone.',\n",
       "   'url': 'https://www.entrepreneur.com/article/380858',\n",
       "   'urlToImage': 'https://assets.entrepreneur.com/content/3x2/2000/1629906298-shutterstock-279138929.jpg',\n",
       "   'publishedAt': '2021-08-31T17:00:00Z',\n",
       "   'content': 'August\\r\\n31, 2021\\r\\n5 min read\\r\\nOpinions expressed by Entrepreneur contributors are their own.\\r\\nFor the past 60 years, TV represented the best way to reach the masses.\\xa0With one commercial, you could\\xa0re… [+5042 chars]'},\n",
       "  {'source': {'id': None, 'name': 'Motley Fool'},\n",
       "   'author': 'newsfeedback@fool.com (Zhiyuan Sun)',\n",
       "   'title': 'Why Ethereum Is the Top Cryptocurrency Investment of 2021',\n",
       "   'description': 'Ethereum has the potential to revolutionize the growing digital economy.',\n",
       "   'url': 'https://www.fool.com/investing/2021/08/18/why-ethereum-is-the-top-cryptocurrency-investment/',\n",
       "   'urlToImage': 'https://g.foolcdn.com/editorial/images/636870/gettyimages-1299252490.jpg',\n",
       "   'publishedAt': '2021-08-18T15:15:00Z',\n",
       "   'content': \"Ethereum\\xa0(CRYPTO:ETH) has a lot going for it -- it's made some investors a bundle and it's an innovative utility coin. Investors who put money into Ethereum when it was introduced six years ago could… [+4053 chars]\"},\n",
       "  {'source': {'id': None, 'name': 'HYPEBEAST'},\n",
       "   'author': 'info@hypebeast.com (HYPEBEAST), HYPEBEAST',\n",
       "   'title': 'Hackers Stole Over $600M USD in Cryptocurrencies Before Returning Some of It the Next Day',\n",
       "   'description': 'On Tuesday, decentralized finance platform Poly Network reported that $600 million USD in various cryptocurrencies had been stolen by hackers, considered to be one of the largest cryptocurrency heists in history.\"The amount of money you hacked is the biggest …',\n",
       "   'url': 'https://hypebeast.com/2021/8/hacker-biggest-heist-cryptocurrency-history',\n",
       "   'urlToImage': 'https://image-cdn.hypb.st/https%3A%2F%2Fhypebeast.com%2Fimage%2F2021%2F08%2Fhacker-biggest-heist-cryptocurrency-history-tw.jpg?w=960&cbr=1&q=90&fit=max',\n",
       "   'publishedAt': '2021-08-11T23:17:09Z',\n",
       "   'content': 'On Tuesday, decentralized finance platform Poly Network reported that $600 million USD in various cryptocurrencies had been stolen by hackers, considered to be one of the largest cryptocurrency heist… [+1851 chars]'},\n",
       "  {'source': {'id': None, 'name': 'Motley Fool'},\n",
       "   'author': 'newsfeedback@fool.com (Daniel Foelber)',\n",
       "   'title': \"Bitcoin at $50,000: 3 Reasons It's About to Heat Up\",\n",
       "   'description': \"The cryptocurrency market is becoming more sophisticated, and that's great news for Bitcoin, Ethereum, and similar assets.\",\n",
       "   'url': 'https://www.fool.com/investing/2021/09/01/bitcoin-at-50000-3-reasons-its-about-to-heat-up/',\n",
       "   'urlToImage': 'https://g.foolcdn.com/editorial/images/641078/gettyimages-1183279457.jpg',\n",
       "   'publishedAt': '2021-09-01T11:00:00Z',\n",
       "   'content': \"On Aug. 23, Bitcoin(CRYPTO:BTC) briefly passed the $50,000 mark for the first time since May. Although it's still down over 20% from its all-time high, Bitcoin has now rallied over 50% from the recen… [+5475 chars]\"},\n",
       "  {'source': {'id': None, 'name': 'Penny Stocks'},\n",
       "   'author': 'J. Samuel',\n",
       "   'title': 'Trending Penny Stocks To Buy For Under $3 Right Now',\n",
       "   'description': 'Are these penny stocks worth the risk?',\n",
       "   'url': 'https://pennystocks.com/featured/2021/08/23/trending-penny-stocks-to-buy-under-3-right-now/',\n",
       "   'urlToImage': 'https://assets.entrepreneur.com/providers/pennystocks/hero-image-pennystocks-380990-1629727341.jpeg',\n",
       "   'publishedAt': '2021-08-23T13:29:14Z',\n",
       "   'content': 'August\\r\\n23, 2021\\r\\n6 min read\\r\\nThis story originally appeared on PennyStocksPenny Stocks To Buy For Less Than A Cup Of Coffee; Are They Worth It?\\r\\nWhat are penny stocks? According to the basic Securit… [+6674 chars]'},\n",
       "  {'source': {'id': None, 'name': 'HYPEBEAST'},\n",
       "   'author': 'info@hypebeast.com (HYPEBEAST), HYPEBEAST',\n",
       "   'title': 'Scammer Returns $336,000 to Pranksy After the Collector Thought He Bought a Banksy NFT',\n",
       "   'description': \"In an ironic turn of events, Pranksy (an avid NFT collector) was recently tricked into purchasing a fake Banksy NFT for $336,000 USD. Initially, there was a link on Banksy's official website that redirected audiences to the NFT marketplace, OpenSea, which the…\",\n",
       "   'url': 'https://hypebeast.com/2021/9/pranksy-fraud-banksy-nft-returned-hacker',\n",
       "   'urlToImage': 'https://image-cdn.hypb.st/https%3A%2F%2Fhypebeast.com%2Fimage%2F2021%2F09%2Fpranksy-fraud-banksy-nft-returned-hacker-tw.jpg?w=960&cbr=1&q=90&fit=max',\n",
       "   'publishedAt': '2021-09-01T20:11:03Z',\n",
       "   'content': 'In an ironic turn of events, Pranksy (an avid NFT collector) was recently tricked into purchasing a fake BanksyNFT for $336,000 USD worth of Ethereum. Initially, there was a link on Banksy’s official… [+883 chars]'},\n",
       "  {'source': {'id': None, 'name': 'HYPEBEAST'},\n",
       "   'author': 'info@hypebeast.com (HYPEBEAST), HYPEBEAST',\n",
       "   'title': 'Bitcoin Nears $50,000 USD, Signaling Rebound',\n",
       "   'description': 'Bitcoin on Saturday approached $50,000 USD per coin, a promising sign after it saw major dips in July.According to\\xa0Coindesk,\\xa0Bitcoin reached a 24-hour high of $49,494 USD before dipping slightly on Sunday. As of Sunday afternoon EDT, Bitcoin was hovering arou…',\n",
       "   'url': 'https://hypebeast.com/2021/8/bitcoin-nears-50000-usd-month-high-rebound-price',\n",
       "   'urlToImage': 'https://image-cdn.hypb.st/https%3A%2F%2Fhypebeast.com%2Fimage%2F2021%2F08%2Fbitcoin-nears-50000-usd-month-high-rebound-price-tw.jpg?w=960&cbr=1&q=90&fit=max',\n",
       "   'publishedAt': '2021-08-22T20:29:03Z',\n",
       "   'content': 'Bitcoin on Saturday approached $50,000 USD per coin, a promising sign after it saw major dips in July.\\r\\nAccording to\\xa0Coindesk,\\xa0Bitcoin reached a 24-hour high of $49,494 USD before dipping slightly on… [+958 chars]'},\n",
       "  {'source': {'id': None, 'name': 'Penny Stocks'},\n",
       "   'author': 'J. Samuel',\n",
       "   'title': 'Best Penny Stocks To Buy For A Short Squeeze? 4 To Watch Right Now',\n",
       "   'description': '4 penny stock to watch with high short interest.',\n",
       "   'url': 'https://pennystocks.com/featured/2021/09/10/best-penny-stocks-to-buy-short-squeeze-5-to-watch-right-now/',\n",
       "   'urlToImage': 'https://assets.entrepreneur.com/providers/pennystocks/hero-image-pennystocks-384978.jpeg',\n",
       "   'publishedAt': '2021-09-10T15:19:00Z',\n",
       "   'content': 'Looking for Short Squeeze Stocks?\\r\\nRight now, the search for penny stocks with high short interest is on. Monster breakouts from Support Inc. (NASDAQ:SPRT), Vinco Venture (NASDAQ:BBIG), and even Camb… [+8826 chars]'},\n",
       "  {'source': {'id': None, 'name': 'Bitcoin.com'},\n",
       "   'author': None,\n",
       "   'title': \"The Crypto Economy's Biggest 12-Month Gainers Outshined Bitcoin and Ethereum by a Long Shot – Markets and Prices Bitcoin News - Bitcoin News\",\n",
       "   'description': \"<ol><li>The Crypto Economy's Biggest 12-Month Gainers Outshined Bitcoin and Ethereum by a Long Shot – Markets and Prices Bitcoin News\\xa0\\xa0Bitcoin News\\r\\n</li><li>Bitcoin Surge Fuels $100,000 Price Predictions As Massive Ethereum, Cardano, BNB, XRP And Dogecoin Ra…\",\n",
       "   'url': 'https://news.bitcoin.com/the-crypto-economys-biggest-12-month-gainers-outshined-bitcoin-and-ethereum-by-a-long-shot/',\n",
       "   'urlToImage': 'https://static.news.bitcoin.com/wp-content/uploads/2021/08/the-crypto-economys-biggest-12-month-gainers-outshined-bitcoin-and-ethereum-by-a-long-shot.jpg',\n",
       "   'publishedAt': '2021-08-14T15:03:06Z',\n",
       "   'content': '2021 has been an incredible year for bitcoin, ethereum, and a great number of the world’s most popular digital assets. While bitcoin has gained around 300% during the last 12 months and ethereum has … [+4345 chars]'},\n",
       "  {'source': {'id': None, 'name': 'Motley Fool'},\n",
       "   'author': 'newsfeedback@fool.com (Martin Young)',\n",
       "   'title': \"How Ethereum's Next Big Upgrade Could Boost Its Value\",\n",
       "   'description': \"The world's second-largest cryptocurrency has way more use cases than Bitcoin and may be a better long-term investment.\",\n",
       "   'url': 'https://www.fool.com/investing/2021/09/04/how-ethereums-next-big-upgrade-could-boost-its-val/',\n",
       "   'urlToImage': 'https://g.foolcdn.com/editorial/images/641991/woman-using-ethereum.jpg',\n",
       "   'publishedAt': '2021-09-04T11:22:00Z',\n",
       "   'content': \"Ethereum(CRYPTO:ETH)- the world's second-largest cryptocurrency, and the most popular smart contract and decentralized application network -- just changed the way it pays the people who maintain its … [+5465 chars]\"},\n",
       "  {'source': {'id': None, 'name': 'HYPEBEAST'},\n",
       "   'author': 'info@hypebeast.com (HYPEBEAST), HYPEBEAST',\n",
       "   'title': \"The Fame Lady Squad NFT Project Wasn't Founded By Women After All\",\n",
       "   'description': 'Earlier this month, an NFT art collective by the name of the Fame Lady Squad (FLS) was launched with the tagline that it was the \"first female avatar project of all time.\" Collectors could purchase \"Ladies,\" an NFT iteration similar to a CryptoPunk or a Bored…',\n",
       "   'url': 'https://hypebeast.com/2021/8/fame-lady-squad-nft-scam-male-founders',\n",
       "   'urlToImage': 'https://image-cdn.hypb.st/https%3A%2F%2Fhypebeast.com%2Fimage%2F2021%2F08%2Ffame-lady-squad-nft-scam-male-founders-tw.jpg?w=960&cbr=1&q=90&fit=max',\n",
       "   'publishedAt': '2021-08-25T18:47:33Z',\n",
       "   'content': 'Earlier this month, an NFT art collective by the name of the Fame Lady Squad (FLS) was launched with the tagline that it was the “first female avatar project of all time.” Collectors could purchase “… [+2230 chars]'},\n",
       "  {'source': {'id': None, 'name': 'HYPEBEAST'},\n",
       "   'author': 'info@hypebeast.com (HYPEBEAST), HYPEBEAST',\n",
       "   'title': 'Amazon Is Working on Live Audio and Twitter Introducing Bitcoin Tipping in This Week’s Business and Crypto Roundup',\n",
       "   'description': 'Many brands are starting to see a recovery despite the challenges initially brought on by the pandemic. Some businesses, especially ones that focused efforts on expanding e-commerce ventures, have even seen profits rise even higher than before.HYPEBEAST has r…',\n",
       "   'url': 'https://hypebeast.com/2021/9/top-crypto-and-business-stories-of-the-week-september-3',\n",
       "   'urlToImage': 'https://image-cdn.hypb.st/https%3A%2F%2Fhypebeast.com%2Fimage%2F2021%2F09%2Ftop-crypto-and-business-stories-of-the-week-september-3-tw.jpg?w=960&cbr=1&q=90&fit=max',\n",
       "   'publishedAt': '2021-09-04T01:52:33Z',\n",
       "   'content': 'Many brands are starting to see a recovery despite the challenges initially brought on by the pandemic. Some businesses, especially ones that focused efforts on expanding e-commerce ventures, have ev… [+3931 chars]'}]}"
      ]
     },
     "execution_count": 22,
     "metadata": {},
     "output_type": "execute_result"
    }
   ],
   "source": [
    "# Fetch the Ethereum news articles\n",
    "ethereum = newsapi.get_everything(\n",
    "    q=\"ethereum AND news AND 2021\",\n",
    "    language=\"en\"\n",
    ")\n",
    "ethereum"
   ]
  },
  {
   "cell_type": "code",
   "execution_count": 23,
   "metadata": {},
   "outputs": [],
   "source": [
    "# Create the Bitcoin sentiment scores DataFrame\n",
    "bitcoin_sentiments = []\n",
    "\n",
    "for article in bitcoin[\"articles\"]:\n",
    "    try:\n",
    "        text = article[\"content\"]\n",
    "        date = article[\"publishedAt\"][:10]\n",
    "        sentiment = analyzer.polarity_scores(text)\n",
    "        compound = sentiment[\"compound\"]\n",
    "        pos = sentiment[\"pos\"]\n",
    "        neu = sentiment[\"neu\"]\n",
    "        neg = sentiment[\"neg\"]\n",
    "        \n",
    "        bitcoin_sentiments.append({\n",
    "            \"text\": text,\n",
    "            \"date\": date,\n",
    "            \"compound\": compound,\n",
    "            \"positive\": pos,\n",
    "            \"negative\": neg,\n",
    "            \"neutral\": neu\n",
    "            \n",
    "        })\n",
    "        \n",
    "    except AttributeError:\n",
    "        pass\n",
    "    "
   ]
  },
  {
   "cell_type": "code",
   "execution_count": 24,
   "metadata": {},
   "outputs": [],
   "source": [
    "ethereum_sentiments = []\n",
    "\n",
    "for article in bitcoin[\"articles\"]:\n",
    "    try:\n",
    "        text = article[\"content\"]\n",
    "        date = article[\"publishedAt\"][:10]\n",
    "        sentiment = analyzer.polarity_scores(text)\n",
    "        compound = sentiment[\"compound\"]\n",
    "        pos = sentiment[\"pos\"]\n",
    "        neu = sentiment[\"neu\"]\n",
    "        neg = sentiment[\"neg\"]\n",
    "        \n",
    "        ethereum_sentiments.append({\n",
    "            \"text\": text,\n",
    "            \"date\": date,\n",
    "            \"compound\": compound,\n",
    "            \"positive\": pos,\n",
    "            \"negative\": neg,\n",
    "            \"neutral\": neu\n",
    "            \n",
    "        })\n",
    "        \n",
    "    except AttributeError:\n",
    "        pass\n",
    "    "
   ]
  },
  {
   "cell_type": "code",
   "execution_count": 25,
   "metadata": {},
   "outputs": [],
   "source": [
    "# Describe the Bitcoin Sentiment\n",
    "def get_sentiment(score):\n",
    "    \"\"\"\n",
    "    Calculates the sentiment based on the compound score.\n",
    "    \"\"\"\n",
    "    result = 0  # Neutral by default\n",
    "    if score >= 0.05:  # Positive\n",
    "        result = 1\n",
    "    elif score <= -0.05:  # Negative\n",
    "        result = -1\n",
    "\n",
    "    return result\n"
   ]
  },
  {
   "cell_type": "code",
   "execution_count": 26,
   "metadata": {},
   "outputs": [
    {
     "data": {
      "text/html": [
       "<div>\n",
       "<style scoped>\n",
       "    .dataframe tbody tr th:only-of-type {\n",
       "        vertical-align: middle;\n",
       "    }\n",
       "\n",
       "    .dataframe tbody tr th {\n",
       "        vertical-align: top;\n",
       "    }\n",
       "\n",
       "    .dataframe thead th {\n",
       "        text-align: right;\n",
       "    }\n",
       "</style>\n",
       "<table border=\"1\" class=\"dataframe\">\n",
       "  <thead>\n",
       "    <tr style=\"text-align: right;\">\n",
       "      <th></th>\n",
       "      <th>compound</th>\n",
       "      <th>positive</th>\n",
       "      <th>negative</th>\n",
       "      <th>neutral</th>\n",
       "    </tr>\n",
       "  </thead>\n",
       "  <tbody>\n",
       "    <tr>\n",
       "      <th>count</th>\n",
       "      <td>20.000000</td>\n",
       "      <td>20.000000</td>\n",
       "      <td>20.000000</td>\n",
       "      <td>20.000000</td>\n",
       "    </tr>\n",
       "    <tr>\n",
       "      <th>mean</th>\n",
       "      <td>0.318350</td>\n",
       "      <td>0.099700</td>\n",
       "      <td>0.028600</td>\n",
       "      <td>0.871850</td>\n",
       "    </tr>\n",
       "    <tr>\n",
       "      <th>std</th>\n",
       "      <td>0.458405</td>\n",
       "      <td>0.083449</td>\n",
       "      <td>0.051172</td>\n",
       "      <td>0.082344</td>\n",
       "    </tr>\n",
       "    <tr>\n",
       "      <th>min</th>\n",
       "      <td>-0.778300</td>\n",
       "      <td>0.000000</td>\n",
       "      <td>0.000000</td>\n",
       "      <td>0.726000</td>\n",
       "    </tr>\n",
       "    <tr>\n",
       "      <th>25%</th>\n",
       "      <td>0.000000</td>\n",
       "      <td>0.000000</td>\n",
       "      <td>0.000000</td>\n",
       "      <td>0.806000</td>\n",
       "    </tr>\n",
       "    <tr>\n",
       "      <th>50%</th>\n",
       "      <td>0.514250</td>\n",
       "      <td>0.110000</td>\n",
       "      <td>0.000000</td>\n",
       "      <td>0.852000</td>\n",
       "    </tr>\n",
       "    <tr>\n",
       "      <th>75%</th>\n",
       "      <td>0.673075</td>\n",
       "      <td>0.155500</td>\n",
       "      <td>0.059000</td>\n",
       "      <td>0.923250</td>\n",
       "    </tr>\n",
       "    <tr>\n",
       "      <th>max</th>\n",
       "      <td>0.868900</td>\n",
       "      <td>0.274000</td>\n",
       "      <td>0.207000</td>\n",
       "      <td>1.000000</td>\n",
       "    </tr>\n",
       "  </tbody>\n",
       "</table>\n",
       "</div>"
      ],
      "text/plain": [
       "        compound   positive   negative    neutral\n",
       "count  20.000000  20.000000  20.000000  20.000000\n",
       "mean    0.318350   0.099700   0.028600   0.871850\n",
       "std     0.458405   0.083449   0.051172   0.082344\n",
       "min    -0.778300   0.000000   0.000000   0.726000\n",
       "25%     0.000000   0.000000   0.000000   0.806000\n",
       "50%     0.514250   0.110000   0.000000   0.852000\n",
       "75%     0.673075   0.155500   0.059000   0.923250\n",
       "max     0.868900   0.274000   0.207000   1.000000"
      ]
     },
     "execution_count": 26,
     "metadata": {},
     "output_type": "execute_result"
    }
   ],
   "source": [
    "# Describe the Ethereum Sentiment\n",
    "ethereum_sentiments = pd.DataFrame(ethereum_sentiments)\n",
    "ethereum_sentiments.describe()"
   ]
  },
  {
   "cell_type": "code",
   "execution_count": 27,
   "metadata": {},
   "outputs": [
    {
     "data": {
      "text/html": [
       "<div>\n",
       "<style scoped>\n",
       "    .dataframe tbody tr th:only-of-type {\n",
       "        vertical-align: middle;\n",
       "    }\n",
       "\n",
       "    .dataframe tbody tr th {\n",
       "        vertical-align: top;\n",
       "    }\n",
       "\n",
       "    .dataframe thead th {\n",
       "        text-align: right;\n",
       "    }\n",
       "</style>\n",
       "<table border=\"1\" class=\"dataframe\">\n",
       "  <thead>\n",
       "    <tr style=\"text-align: right;\">\n",
       "      <th></th>\n",
       "      <th>compound</th>\n",
       "      <th>positive</th>\n",
       "      <th>negative</th>\n",
       "      <th>neutral</th>\n",
       "    </tr>\n",
       "  </thead>\n",
       "  <tbody>\n",
       "    <tr>\n",
       "      <th>count</th>\n",
       "      <td>20.000000</td>\n",
       "      <td>20.000000</td>\n",
       "      <td>20.000000</td>\n",
       "      <td>20.000000</td>\n",
       "    </tr>\n",
       "    <tr>\n",
       "      <th>mean</th>\n",
       "      <td>0.318350</td>\n",
       "      <td>0.099700</td>\n",
       "      <td>0.028600</td>\n",
       "      <td>0.871850</td>\n",
       "    </tr>\n",
       "    <tr>\n",
       "      <th>std</th>\n",
       "      <td>0.458405</td>\n",
       "      <td>0.083449</td>\n",
       "      <td>0.051172</td>\n",
       "      <td>0.082344</td>\n",
       "    </tr>\n",
       "    <tr>\n",
       "      <th>min</th>\n",
       "      <td>-0.778300</td>\n",
       "      <td>0.000000</td>\n",
       "      <td>0.000000</td>\n",
       "      <td>0.726000</td>\n",
       "    </tr>\n",
       "    <tr>\n",
       "      <th>25%</th>\n",
       "      <td>0.000000</td>\n",
       "      <td>0.000000</td>\n",
       "      <td>0.000000</td>\n",
       "      <td>0.806000</td>\n",
       "    </tr>\n",
       "    <tr>\n",
       "      <th>50%</th>\n",
       "      <td>0.514250</td>\n",
       "      <td>0.110000</td>\n",
       "      <td>0.000000</td>\n",
       "      <td>0.852000</td>\n",
       "    </tr>\n",
       "    <tr>\n",
       "      <th>75%</th>\n",
       "      <td>0.673075</td>\n",
       "      <td>0.155500</td>\n",
       "      <td>0.059000</td>\n",
       "      <td>0.923250</td>\n",
       "    </tr>\n",
       "    <tr>\n",
       "      <th>max</th>\n",
       "      <td>0.868900</td>\n",
       "      <td>0.274000</td>\n",
       "      <td>0.207000</td>\n",
       "      <td>1.000000</td>\n",
       "    </tr>\n",
       "  </tbody>\n",
       "</table>\n",
       "</div>"
      ],
      "text/plain": [
       "        compound   positive   negative    neutral\n",
       "count  20.000000  20.000000  20.000000  20.000000\n",
       "mean    0.318350   0.099700   0.028600   0.871850\n",
       "std     0.458405   0.083449   0.051172   0.082344\n",
       "min    -0.778300   0.000000   0.000000   0.726000\n",
       "25%     0.000000   0.000000   0.000000   0.806000\n",
       "50%     0.514250   0.110000   0.000000   0.852000\n",
       "75%     0.673075   0.155500   0.059000   0.923250\n",
       "max     0.868900   0.274000   0.207000   1.000000"
      ]
     },
     "execution_count": 27,
     "metadata": {},
     "output_type": "execute_result"
    }
   ],
   "source": [
    "bitcoin_sentiments = pd.DataFrame(bitcoin_sentiments)\n",
    "bitcoin_sentiments.describe()"
   ]
  },
  {
   "cell_type": "markdown",
   "metadata": {},
   "source": [
    "### Questions:\n",
    "\n",
    "Q: Which coin had the highest mean positive score?\n",
    "\n",
    "A: \n",
    "\n",
    "Q: Which coin had the highest compound score?\n",
    "\n",
    "A: \n",
    "\n",
    "Q. Which coin had the highest positive score?\n",
    "\n",
    "A: "
   ]
  },
  {
   "cell_type": "markdown",
   "metadata": {},
   "source": [
    "ETH has highest mean. BTC has highest compound and posititve scores."
   ]
  },
  {
   "cell_type": "markdown",
   "metadata": {},
   "source": [
    "---"
   ]
  },
  {
   "cell_type": "markdown",
   "metadata": {},
   "source": [
    "## 2. Natural Language Processing\n",
    "---\n",
    "###   Tokenizer\n",
    "\n",
    "In this section, you will use NLTK and Python to tokenize the text for each coin. Be sure to:\n",
    "1. Lowercase each word.\n",
    "2. Remove Punctuation.\n",
    "3. Remove Stopwords."
   ]
  },
  {
   "cell_type": "code",
   "execution_count": 19,
   "metadata": {},
   "outputs": [
    {
     "name": "stderr",
     "output_type": "stream",
     "text": [
      "[nltk_data] Downloading package wordnet to\n",
      "[nltk_data]     C:\\Users\\thejp\\AppData\\Roaming\\nltk_data...\n",
      "[nltk_data]   Package wordnet is already up-to-date!\n",
      "[nltk_data] Downloading package reuters to\n",
      "[nltk_data]     C:\\Users\\thejp\\AppData\\Roaming\\nltk_data...\n",
      "[nltk_data]   Package reuters is already up-to-date!\n",
      "[nltk_data] Downloading package stopwords to\n",
      "[nltk_data]     C:\\Users\\thejp\\AppData\\Roaming\\nltk_data...\n",
      "[nltk_data]   Package stopwords is already up-to-date!\n",
      "[nltk_data] Downloading package punkt to\n",
      "[nltk_data]     C:\\Users\\thejp\\AppData\\Roaming\\nltk_data...\n",
      "[nltk_data]   Package punkt is already up-to-date!\n"
     ]
    },
    {
     "data": {
      "text/plain": [
       "True"
      ]
     },
     "execution_count": 19,
     "metadata": {},
     "output_type": "execute_result"
    }
   ],
   "source": [
    "from nltk.tokenize import word_tokenize, sent_tokenize\n",
    "from nltk.corpus import stopwords\n",
    "from nltk.stem import WordNetLemmatizer, PorterStemmer\n",
    "from string import punctuation\n",
    "import re\n",
    "from nltk.stem import WordNetLemmatizer \n",
    "from nltk.tokenize import word_tokenize\n",
    "from nltk.corpus import reuters, stopwords\n",
    "import re\n",
    "\n",
    "# Code to download corpora\n",
    "import nltk\n",
    "nltk.download('wordnet')\n",
    "nltk.download('reuters')\n",
    "nltk.download('stopwords')\n",
    "nltk.download('punkt')"
   ]
  },
  {
   "cell_type": "code",
   "execution_count": 20,
   "metadata": {},
   "outputs": [],
   "source": [
    "# Instantiate the lemmatizer\n",
    "lemmatizer = WordNetLemmatizer() \n",
    "# Create a list of stopwords\n",
    "bitcoin_article = reuters.raw(fileids=reuters.fileids(categories='gas')[2])\n",
    "def clean_text(bitcoin_article):\n",
    "    sw = set(stopwords.words('english'))\n",
    "    regex = re.compile(\"[^a-zA-Z ]\")\n",
    "    sw_addons = {'said', 'sent', 'found', 'including', 'today', 'announced', 'week', 'basically', 'also'}\n",
    "    \n",
    "    re_clean = regex.sub('', article)\n",
    "    words = word_tokenize(re_clean)\n",
    "    output = [word.lower() for word in words if word.lower() not in sw.union(sw_addons)]\n",
    "    return output\n",
    "\n",
    "# Expand the default stopwords list if necessary\n"
   ]
  },
  {
   "cell_type": "code",
   "execution_count": 21,
   "metadata": {},
   "outputs": [],
   "source": [
    "# Complete the tokenizer function\n",
    "def process_text(article):\n",
    "    sw = set(stopwords.words('english'))\n",
    "    regex = re.compile(\"[^a-zA-Z ]\")\n",
    "    re_clean = regex.sub('', article)\n",
    "    words = word_tokenize(re_clean)\n",
    "    lem = [lemmatizer.lemmatize(word) for word in words]\n",
    "    output = [word.lower() for word in lem if word.lower() not in sw]\n",
    "    return output\n",
    "    \n",
    "    # Remove the punctuation from text\n",
    "\n",
    "   \n",
    "    # Create a tokenized list of the words\n",
    "\n",
    "    \n",
    "    # Lemmatize words into root words\n",
    "\n",
    "   \n",
    "    # Convert the words to lowercase\n",
    "    \n",
    "    \n",
    "    # Remove the stop words\n",
    "    \n",
    "    \n"
   ]
  },
  {
   "cell_type": "code",
   "execution_count": 22,
   "metadata": {},
   "outputs": [],
   "source": [
    "# Create a new tokens column for Bitcoin\n",
    "# YOUR CODE HERE!"
   ]
  },
  {
   "cell_type": "code",
   "execution_count": 23,
   "metadata": {},
   "outputs": [],
   "source": [
    "# Create a new tokens column for Ethereum\n",
    "# YOUR CODE HERE!"
   ]
  },
  {
   "cell_type": "markdown",
   "metadata": {},
   "source": [
    "---"
   ]
  },
  {
   "cell_type": "markdown",
   "metadata": {},
   "source": [
    "### NGrams and Frequency Analysis\n",
    "\n",
    "In this section you will look at the ngrams and word frequency for each coin. \n",
    "\n",
    "1. Use NLTK to produce the n-grams for N = 2. \n",
    "2. List the top 10 words for each coin. "
   ]
  },
  {
   "cell_type": "code",
   "execution_count": 24,
   "metadata": {},
   "outputs": [],
   "source": [
    "from collections import Counter\n",
    "from nltk import ngrams"
   ]
  },
  {
   "cell_type": "code",
   "execution_count": 25,
   "metadata": {},
   "outputs": [
    {
     "name": "stdout",
     "output_type": "stream",
     "text": [
      "EIA SAYS DISTILLATE STOCKS UNCHANGED IN WEEK\n",
      "  Distillate fuel stocks held in\n",
      "  primary storage were unchanged in the week ended April three at\n",
      "  106.9 mln barrels, the Energy Information Administration (EIA)\n",
      "  said.\n",
      "      In its weekly petroleum status report, the Department of\n",
      "  Energy agency said gasoline stocks were off 200,000 barrels in\n",
      "  the week to 248.1 mln barrels and refinery crude oil stocks\n",
      "  rose 6.3 mln barrels to 335.8 mln.\n",
      "      The EIA said residual fuel stocks fell 100,000 barrels to\n",
      "  38.1 mln barrels and crude oil stocks in the Strategic\n",
      "  Petroleum Reserve (SPR) rose 1.1 mln barrels to 520.0 mln.\n",
      "      The total of all crude, refined product and SPR stocks rose\n",
      "  9.4 mln barrels to 1,561.1, it said.\n",
      "  \n",
      "\n",
      "\n"
     ]
    }
   ],
   "source": [
    "# Generate the Bitcoin N-grams where N=2\n",
    "article = reuters.raw(reuters.fileids(categories='gas')[2])\n",
    "print(article)"
   ]
  },
  {
   "cell_type": "code",
   "execution_count": 26,
   "metadata": {},
   "outputs": [
    {
     "name": "stdout",
     "output_type": "stream",
     "text": [
      "EIA SAYS DISTILLATE STOCKS UNCHANGED IN WEEK\n",
      "  Distillate fuel stocks held in\n",
      "  primary storage were unchanged in the week ended April three at\n",
      "  106.9 mln barrels, the Energy Information Administration (EIA)\n",
      "  said.\n",
      "      In its weekly petroleum status report, the Department of\n",
      "  Energy agency said gasoline stocks were off 200,000 barrels in\n",
      "  the week to 248.1 mln barrels and refinery crude oil stocks\n",
      "  rose 6.3 mln barrels to 335.8 mln.\n",
      "      The EIA said residual fuel stocks fell 100,000 barrels to\n",
      "  38.1 mln barrels and crude oil stocks in the Strategic\n",
      "  Petroleum Reserve (SPR) rose 1.1 mln barrels to 520.0 mln.\n",
      "      The total of all crude, refined product and SPR stocks rose\n",
      "  9.4 mln barrels to 1,561.1, it said.\n",
      "  \n",
      "\n",
      "\n"
     ]
    }
   ],
   "source": [
    "# Generate the Ethereum N-grams where N=2\n",
    "article = reuters.raw(reuters.fileids(categories='gas')[2])\n",
    "print(article)"
   ]
  },
  {
   "cell_type": "code",
   "execution_count": 27,
   "metadata": {},
   "outputs": [],
   "source": [
    "# Function token_count generates the top 10 words for a given coin\n",
    "def token_count(tokens, N=3):\n",
    "    \"\"\"Returns the top N tokens from the frequency count\"\"\"\n",
    "    return Counter(tokens).most_common(N)"
   ]
  },
  {
   "cell_type": "code",
   "execution_count": null,
   "metadata": {},
   "outputs": [],
   "source": [
    "# Use token_count to get the top 10 words for Bitcoin\n",
    "top_words = bitcoin[\n",
    "    (bitcoin[\"frequency\"] >= 10) & (bitcoin[\"frequency\"] <= 30)\n",
    "]\n",
    "\n",
    "top_words.head(10)"
   ]
  },
  {
   "cell_type": "code",
   "execution_count": null,
   "metadata": {},
   "outputs": [],
   "source": [
    "# Use token_count to get the top 10 words for Ethereum\n",
    "top_words2 = ethereum[\n",
    "    (ethereum[\"Frequency\"] >= 10) & (money_news_df[\"Frequency\"] <= 30)\n",
    "]\n",
    "\n",
    "top_words2.head(10)"
   ]
  },
  {
   "cell_type": "markdown",
   "metadata": {},
   "source": [
    "---"
   ]
  },
  {
   "cell_type": "markdown",
   "metadata": {},
   "source": [
    "### Word Clouds\n",
    "\n",
    "In this section, you will generate word clouds for each coin to summarize the news for each coin"
   ]
  },
  {
   "cell_type": "code",
   "execution_count": 30,
   "metadata": {},
   "outputs": [
    {
     "name": "stderr",
     "output_type": "stream",
     "text": [
      "[nltk_data] Downloading package wordnet to\n",
      "[nltk_data]     C:\\Users\\thejp\\AppData\\Roaming\\nltk_data...\n",
      "[nltk_data]   Package wordnet is already up-to-date!\n",
      "[nltk_data] Downloading package reuters to\n",
      "[nltk_data]     C:\\Users\\thejp\\AppData\\Roaming\\nltk_data...\n",
      "[nltk_data]   Package reuters is already up-to-date!\n",
      "[nltk_data] Downloading package stopwords to\n",
      "[nltk_data]     C:\\Users\\thejp\\AppData\\Roaming\\nltk_data...\n",
      "[nltk_data]   Package stopwords is already up-to-date!\n",
      "[nltk_data] Downloading package punkt to\n",
      "[nltk_data]     C:\\Users\\thejp\\AppData\\Roaming\\nltk_data...\n",
      "[nltk_data]   Package punkt is already up-to-date!\n"
     ]
    }
   ],
   "source": [
    "from nltk.corpus import stopwords, reuters\n",
    "from nltk.tokenize import word_tokenize\n",
    "from nltk.stem import WordNetLemmatizer\n",
    "from wordcloud import WordCloud\n",
    "import re\n",
    "import matplotlib.pyplot as plt\n",
    "\n",
    "# Code to download corpora\n",
    "import nltk\n",
    "nltk.download('wordnet')\n",
    "nltk.download('reuters')\n",
    "nltk.download('stopwords')\n",
    "nltk.download('punkt')\n",
    "\n",
    "lemmatizer = WordNetLemmatizer()"
   ]
  },
  {
   "cell_type": "code",
   "execution_count": 31,
   "metadata": {},
   "outputs": [
    {
     "data": {
      "text/html": [
       "<div>\n",
       "<style scoped>\n",
       "    .dataframe tbody tr th:only-of-type {\n",
       "        vertical-align: middle;\n",
       "    }\n",
       "\n",
       "    .dataframe tbody tr th {\n",
       "        vertical-align: top;\n",
       "    }\n",
       "\n",
       "    .dataframe thead th {\n",
       "        text-align: right;\n",
       "    }\n",
       "</style>\n",
       "<table border=\"1\" class=\"dataframe\">\n",
       "  <thead>\n",
       "    <tr style=\"text-align: right;\">\n",
       "      <th></th>\n",
       "      <th>text</th>\n",
       "      <th>date</th>\n",
       "      <th>compound</th>\n",
       "      <th>positive</th>\n",
       "      <th>negative</th>\n",
       "      <th>neutral</th>\n",
       "    </tr>\n",
       "  </thead>\n",
       "  <tbody>\n",
       "    <tr>\n",
       "      <th>0</th>\n",
       "      <td>Plunges as much as 17 per cent to US$43,050 \\r...</td>\n",
       "      <td>2021-09-07</td>\n",
       "      <td>-0.2023</td>\n",
       "      <td>0.038</td>\n",
       "      <td>0.060</td>\n",
       "      <td>0.902</td>\n",
       "    </tr>\n",
       "    <tr>\n",
       "      <th>1</th>\n",
       "      <td>August\\r\\n20, 2021\\r\\n8 min read\\r\\nThis story...</td>\n",
       "      <td>2021-08-20</td>\n",
       "      <td>0.6808</td>\n",
       "      <td>0.157</td>\n",
       "      <td>0.000</td>\n",
       "      <td>0.843</td>\n",
       "    </tr>\n",
       "    <tr>\n",
       "      <th>2</th>\n",
       "      <td>Representations of cryptocurrencies Bitcoin, E...</td>\n",
       "      <td>2021-09-03</td>\n",
       "      <td>0.0000</td>\n",
       "      <td>0.000</td>\n",
       "      <td>0.000</td>\n",
       "      <td>1.000</td>\n",
       "    </tr>\n",
       "    <tr>\n",
       "      <th>3</th>\n",
       "      <td>In experiments performed at the University of ...</td>\n",
       "      <td>2021-08-23</td>\n",
       "      <td>0.0000</td>\n",
       "      <td>0.000</td>\n",
       "      <td>0.000</td>\n",
       "      <td>1.000</td>\n",
       "    </tr>\n",
       "    <tr>\n",
       "      <th>4</th>\n",
       "      <td>Sept 7 (Reuters) - The bonds of Chinese proper...</td>\n",
       "      <td>2021-09-07</td>\n",
       "      <td>-0.0516</td>\n",
       "      <td>0.067</td>\n",
       "      <td>0.074</td>\n",
       "      <td>0.859</td>\n",
       "    </tr>\n",
       "    <tr>\n",
       "      <th>5</th>\n",
       "      <td>August\\r\\n18, 2021\\r\\n3 min read\\r\\nOpinions e...</td>\n",
       "      <td>2021-08-18</td>\n",
       "      <td>-0.3818</td>\n",
       "      <td>0.000</td>\n",
       "      <td>0.077</td>\n",
       "      <td>0.923</td>\n",
       "    </tr>\n",
       "    <tr>\n",
       "      <th>6</th>\n",
       "      <td>August\\r\\n24, 2021\\r\\n8 min read\\r\\nOpinions e...</td>\n",
       "      <td>2021-08-24</td>\n",
       "      <td>0.7184</td>\n",
       "      <td>0.200</td>\n",
       "      <td>0.000</td>\n",
       "      <td>0.800</td>\n",
       "    </tr>\n",
       "    <tr>\n",
       "      <th>7</th>\n",
       "      <td>BEIJING (Reuters) -When Xi Jinping took comman...</td>\n",
       "      <td>2021-09-09</td>\n",
       "      <td>0.5574</td>\n",
       "      <td>0.151</td>\n",
       "      <td>0.059</td>\n",
       "      <td>0.791</td>\n",
       "    </tr>\n",
       "    <tr>\n",
       "      <th>8</th>\n",
       "      <td>BEIJING (Reuters) -When Xi Jinping took comman...</td>\n",
       "      <td>2021-09-09</td>\n",
       "      <td>0.5574</td>\n",
       "      <td>0.151</td>\n",
       "      <td>0.059</td>\n",
       "      <td>0.791</td>\n",
       "    </tr>\n",
       "    <tr>\n",
       "      <th>9</th>\n",
       "      <td>The S&amp;amp;P/TSX Composite Index rose 140 point...</td>\n",
       "      <td>2021-08-30</td>\n",
       "      <td>0.4939</td>\n",
       "      <td>0.110</td>\n",
       "      <td>0.000</td>\n",
       "      <td>0.890</td>\n",
       "    </tr>\n",
       "    <tr>\n",
       "      <th>10</th>\n",
       "      <td>A representations of cryptocurrency Bitcoin an...</td>\n",
       "      <td>2021-08-20</td>\n",
       "      <td>0.0000</td>\n",
       "      <td>0.000</td>\n",
       "      <td>0.000</td>\n",
       "      <td>1.000</td>\n",
       "    </tr>\n",
       "    <tr>\n",
       "      <th>11</th>\n",
       "      <td>Dogecoin may not be heading to the moon but it...</td>\n",
       "      <td>2021-08-15</td>\n",
       "      <td>0.8519</td>\n",
       "      <td>0.192</td>\n",
       "      <td>0.000</td>\n",
       "      <td>0.808</td>\n",
       "    </tr>\n",
       "    <tr>\n",
       "      <th>12</th>\n",
       "      <td>* China c.bank to stay prudent; yuan rises\\r\\n...</td>\n",
       "      <td>2021-09-08</td>\n",
       "      <td>0.0000</td>\n",
       "      <td>0.000</td>\n",
       "      <td>0.000</td>\n",
       "      <td>1.000</td>\n",
       "    </tr>\n",
       "    <tr>\n",
       "      <th>13</th>\n",
       "      <td>Representation of Bitcoin cryptocurrency is se...</td>\n",
       "      <td>2021-09-07</td>\n",
       "      <td>-0.7783</td>\n",
       "      <td>0.000</td>\n",
       "      <td>0.207</td>\n",
       "      <td>0.793</td>\n",
       "    </tr>\n",
       "    <tr>\n",
       "      <th>14</th>\n",
       "      <td>August\\r\\n25, 2021\\r\\n6 min read\\r\\nThis story...</td>\n",
       "      <td>2021-08-25</td>\n",
       "      <td>0.6705</td>\n",
       "      <td>0.155</td>\n",
       "      <td>0.000</td>\n",
       "      <td>0.845</td>\n",
       "    </tr>\n",
       "    <tr>\n",
       "      <th>15</th>\n",
       "      <td>August\\r\\n24, 2021\\r\\n8 min read\\r\\nThis story...</td>\n",
       "      <td>2021-08-24</td>\n",
       "      <td>0.6369</td>\n",
       "      <td>0.110</td>\n",
       "      <td>0.000</td>\n",
       "      <td>0.890</td>\n",
       "    </tr>\n",
       "    <tr>\n",
       "      <th>16</th>\n",
       "      <td>Best Buy (BBY) is a Zacks Rank #1 (Strong Buy)...</td>\n",
       "      <td>2021-09-10</td>\n",
       "      <td>0.8689</td>\n",
       "      <td>0.274</td>\n",
       "      <td>0.000</td>\n",
       "      <td>0.726</td>\n",
       "    </tr>\n",
       "    <tr>\n",
       "      <th>17</th>\n",
       "      <td>Personal Finance Insider writes about products...</td>\n",
       "      <td>2021-09-08</td>\n",
       "      <td>0.5346</td>\n",
       "      <td>0.158</td>\n",
       "      <td>0.000</td>\n",
       "      <td>0.842</td>\n",
       "    </tr>\n",
       "    <tr>\n",
       "      <th>18</th>\n",
       "      <td>Hi there, again! Im flooded. There is at least...</td>\n",
       "      <td>2021-09-02</td>\n",
       "      <td>0.4926</td>\n",
       "      <td>0.076</td>\n",
       "      <td>0.000</td>\n",
       "      <td>0.924</td>\n",
       "    </tr>\n",
       "    <tr>\n",
       "      <th>19</th>\n",
       "      <td>Did you know Neural is taking the stage this f...</td>\n",
       "      <td>2021-08-27</td>\n",
       "      <td>0.7177</td>\n",
       "      <td>0.155</td>\n",
       "      <td>0.036</td>\n",
       "      <td>0.810</td>\n",
       "    </tr>\n",
       "  </tbody>\n",
       "</table>\n",
       "</div>"
      ],
      "text/plain": [
       "                                                 text        date  compound  \\\n",
       "0   Plunges as much as 17 per cent to US$43,050 \\r...  2021-09-07   -0.2023   \n",
       "1   August\\r\\n20, 2021\\r\\n8 min read\\r\\nThis story...  2021-08-20    0.6808   \n",
       "2   Representations of cryptocurrencies Bitcoin, E...  2021-09-03    0.0000   \n",
       "3   In experiments performed at the University of ...  2021-08-23    0.0000   \n",
       "4   Sept 7 (Reuters) - The bonds of Chinese proper...  2021-09-07   -0.0516   \n",
       "5   August\\r\\n18, 2021\\r\\n3 min read\\r\\nOpinions e...  2021-08-18   -0.3818   \n",
       "6   August\\r\\n24, 2021\\r\\n8 min read\\r\\nOpinions e...  2021-08-24    0.7184   \n",
       "7   BEIJING (Reuters) -When Xi Jinping took comman...  2021-09-09    0.5574   \n",
       "8   BEIJING (Reuters) -When Xi Jinping took comman...  2021-09-09    0.5574   \n",
       "9   The S&amp;P/TSX Composite Index rose 140 point...  2021-08-30    0.4939   \n",
       "10  A representations of cryptocurrency Bitcoin an...  2021-08-20    0.0000   \n",
       "11  Dogecoin may not be heading to the moon but it...  2021-08-15    0.8519   \n",
       "12  * China c.bank to stay prudent; yuan rises\\r\\n...  2021-09-08    0.0000   \n",
       "13  Representation of Bitcoin cryptocurrency is se...  2021-09-07   -0.7783   \n",
       "14  August\\r\\n25, 2021\\r\\n6 min read\\r\\nThis story...  2021-08-25    0.6705   \n",
       "15  August\\r\\n24, 2021\\r\\n8 min read\\r\\nThis story...  2021-08-24    0.6369   \n",
       "16  Best Buy (BBY) is a Zacks Rank #1 (Strong Buy)...  2021-09-10    0.8689   \n",
       "17  Personal Finance Insider writes about products...  2021-09-08    0.5346   \n",
       "18  Hi there, again! Im flooded. There is at least...  2021-09-02    0.4926   \n",
       "19  Did you know Neural is taking the stage this f...  2021-08-27    0.7177   \n",
       "\n",
       "    positive  negative  neutral  \n",
       "0      0.038     0.060    0.902  \n",
       "1      0.157     0.000    0.843  \n",
       "2      0.000     0.000    1.000  \n",
       "3      0.000     0.000    1.000  \n",
       "4      0.067     0.074    0.859  \n",
       "5      0.000     0.077    0.923  \n",
       "6      0.200     0.000    0.800  \n",
       "7      0.151     0.059    0.791  \n",
       "8      0.151     0.059    0.791  \n",
       "9      0.110     0.000    0.890  \n",
       "10     0.000     0.000    1.000  \n",
       "11     0.192     0.000    0.808  \n",
       "12     0.000     0.000    1.000  \n",
       "13     0.000     0.207    0.793  \n",
       "14     0.155     0.000    0.845  \n",
       "15     0.110     0.000    0.890  \n",
       "16     0.274     0.000    0.726  \n",
       "17     0.158     0.000    0.842  \n",
       "18     0.076     0.000    0.924  \n",
       "19     0.155     0.036    0.810  "
      ]
     },
     "execution_count": 31,
     "metadata": {},
     "output_type": "execute_result"
    }
   ],
   "source": [
    "bitcoin_sent"
   ]
  },
  {
   "cell_type": "code",
   "execution_count": 32,
   "metadata": {},
   "outputs": [
    {
     "data": {
      "text/plain": [
       "0     Plunges as much as 17 per cent to US$43,050 \\r...\n",
       "1     August\\r\\n20, 2021\\r\\n8 min read\\r\\nThis story...\n",
       "2     Representations of cryptocurrencies Bitcoin, E...\n",
       "3     In experiments performed at the University of ...\n",
       "4     Sept 7 (Reuters) - The bonds of Chinese proper...\n",
       "5     August\\r\\n18, 2021\\r\\n3 min read\\r\\nOpinions e...\n",
       "6     August\\r\\n24, 2021\\r\\n8 min read\\r\\nOpinions e...\n",
       "7     BEIJING (Reuters) -When Xi Jinping took comman...\n",
       "8     BEIJING (Reuters) -When Xi Jinping took comman...\n",
       "9     The S&amp;P/TSX Composite Index rose 140 point...\n",
       "10    A representations of cryptocurrency Bitcoin an...\n",
       "11    Dogecoin may not be heading to the moon but it...\n",
       "12    * China c.bank to stay prudent; yuan rises\\r\\n...\n",
       "13    Representation of Bitcoin cryptocurrency is se...\n",
       "14    August\\r\\n25, 2021\\r\\n6 min read\\r\\nThis story...\n",
       "15    August\\r\\n24, 2021\\r\\n8 min read\\r\\nThis story...\n",
       "16    Best Buy (BBY) is a Zacks Rank #1 (Strong Buy)...\n",
       "17    Personal Finance Insider writes about products...\n",
       "18    Hi there, again! Im flooded. There is at least...\n",
       "19    Did you know Neural is taking the stage this f...\n",
       "Name: text, dtype: object"
      ]
     },
     "execution_count": 32,
     "metadata": {},
     "output_type": "execute_result"
    }
   ],
   "source": [
    "bitcoin_sent[\"text\"]"
   ]
  },
  {
   "cell_type": "code",
   "execution_count": 33,
   "metadata": {},
   "outputs": [],
   "source": [
    "bitcoin_text= bitcoin_sent[\"text\"].str.cat(sep=' ')"
   ]
  },
  {
   "cell_type": "code",
   "execution_count": 34,
   "metadata": {},
   "outputs": [],
   "source": [
    "# Generate the Bitcoin word cloud\n",
    "ids = reuters.fileids(categories='gas')\n",
    "corpus = [reuters.raw(i) for i in ids]"
   ]
  },
  {
   "cell_type": "code",
   "execution_count": 35,
   "metadata": {},
   "outputs": [],
   "source": [
    " def process_text(doc):\n",
    "    sw = set(stopwords.words('english'))\n",
    "    regex = re.compile(\"[^a-zA-Z ]\")\n",
    "    re_clean = regex.sub('', doc)\n",
    "    words = word_tokenize(re_clean)\n",
    "    lem = [lemmatizer.lemmatize(word) for word in words]\n",
    "    output = [word.lower() for word in lem if word.lower() not in sw]\n",
    "    return ' '.join(output)"
   ]
  },
  {
   "cell_type": "code",
   "execution_count": 36,
   "metadata": {},
   "outputs": [],
   "source": [
    "big_string = ' '.join(corpus)\n",
    "input_words = process_text(big_string)"
   ]
  },
  {
   "cell_type": "code",
   "execution_count": 37,
   "metadata": {},
   "outputs": [
    {
     "data": {
      "text/plain": [
       "<matplotlib.image.AxesImage at 0x1f723411520>"
      ]
     },
     "execution_count": 37,
     "metadata": {},
     "output_type": "execute_result"
    },
    {
     "data": {
      "image/png": "[encoded data removed]",
      "text/plain": [
       "<Figure size 432x288 with 1 Axes>"
      ]
     },
     "metadata": {
      "needs_background": "light"
     },
     "output_type": "display_data"
    }
   ],
   "source": [
    "wc = WordCloud().generate(bitcoin_text)\n",
    "plt.imshow(wc)"
   ]
  },
  {
   "cell_type": "code",
   "execution_count": 38,
   "metadata": {},
   "outputs": [],
   "source": [
    "# Generate the Ethereum word cloud\n",
    "ids = reuters.fileids(categories='gas')\n",
    "corpus = [reuters.raw(i) for i in ids]"
   ]
  },
  {
   "cell_type": "code",
   "execution_count": 39,
   "metadata": {},
   "outputs": [],
   "source": [
    " def process_text(doc):\n",
    "    sw = set(stopwords.words('english'))\n",
    "    regex = re.compile(\"[^a-zA-Z ]\")\n",
    "    re_clean = regex.sub('', doc)\n",
    "    words = word_tokenize(re_clean)\n",
    "    lem = [lemmatizer.lemmatize(word) for word in words]\n",
    "    output = [word.lower() for word in lem if word.lower() not in sw]\n",
    "    return ' '.join(output)"
   ]
  },
  {
   "cell_type": "code",
   "execution_count": 40,
   "metadata": {},
   "outputs": [],
   "source": [
    "eth = ' '.join(corpus)\n",
    "input_words = process_text(eth)"
   ]
  },
  {
   "cell_type": "code",
   "execution_count": 41,
   "metadata": {},
   "outputs": [
    {
     "data": {
      "text/plain": [
       "<matplotlib.image.AxesImage at 0x1f728cba2e0>"
      ]
     },
     "execution_count": 41,
     "metadata": {},
     "output_type": "execute_result"
    },
    {
     "data": {
      "image/png": "[encoded data removed]",
      "text/plain": [
       "<Figure size 432x288 with 1 Axes>"
      ]
     },
     "metadata": {
      "needs_background": "light"
     },
     "output_type": "display_data"
    }
   ],
   "source": [
    "wc = WordCloud().generate(bitcoin_text)\n",
    "plt.imshow(wc)"
   ]
  },
  {
   "cell_type": "markdown",
   "metadata": {},
   "source": [
    "---\n",
    "## 3. Named Entity Recognition\n",
    "\n",
    "In this section, you will build a named entity recognition model for both Bitcoin and Ethereum, then visualize the tags using SpaCy."
   ]
  },
  {
   "cell_type": "code",
   "execution_count": 9,
   "metadata": {},
   "outputs": [],
   "source": [
    "import spacy\n",
    "from spacy import displacy\n",
    "from wordcloud import WordCloud"
   ]
  },
  {
   "cell_type": "code",
   "execution_count": 10,
   "metadata": {},
   "outputs": [],
   "source": [
    "# Load the spaCy model\n",
    "nlp = spacy.load(\"en_core_web_sm\")"
   ]
  },
  {
   "cell_type": "markdown",
   "metadata": {},
   "source": [
    "---\n",
    "### Bitcoin NER"
   ]
  },
  {
   "cell_type": "code",
   "execution_count": null,
   "metadata": {},
   "outputs": [],
   "source": [
    "# Concatenate all of the Bitcoin text together\n",
    "article = reuters.raw(fileids = reuters.fileids(categories='bitcoin')[0])\n"
   ]
  },
  {
   "cell_type": "code",
   "execution_count": 28,
   "metadata": {},
   "outputs": [],
   "source": [
    "# Run the NER processor on all of the text\n",
    "doc = nlp(article)\n",
    "\n",
    "# Add a title to the document\n"
   ]
  },
  {
   "cell_type": "code",
   "execution_count": 29,
   "metadata": {},
   "outputs": [],
   "source": [
    "# Render the visualization\n",
    "displacy.render(doc, style='ent')"
   ]
  },
  {
   "cell_type": "code",
   "execution_count": 30,
   "metadata": {},
   "outputs": [],
   "source": [
    "# List all Entities\n"
   ]
  },
  {
   "cell_type": "markdown",
   "metadata": {},
   "source": [
    "---"
   ]
  },
  {
   "cell_type": "markdown",
   "metadata": {},
   "source": [
    "### Ethereum NER"
   ]
  },
  {
   "cell_type": "code",
   "execution_count": 31,
   "metadata": {},
   "outputs": [],
   "source": [
    "# Concatenate all of the Ethereum text together\n",
    "doc_e = reuters.raw(fileids = reuters.fileids(categories='bitcoin')"
   ]
  },
  {
   "cell_type": "code",
   "execution_count": 32,
   "metadata": {},
   "outputs": [],
   "source": [
    "# Run the NER processor on all of the text\n",
    "for ent in doc_e.ents:\n",
    "    print(ent.text, ent.label_)\n",
    "# Add a title to the document\n"
   ]
  },
  {
   "cell_type": "code",
   "execution_count": 33,
   "metadata": {},
   "outputs": [],
   "source": [
    "# Render the visualization\n",
    "displacy.render(doc_e, style='ent') "
   ]
  },
  {
   "cell_type": "code",
   "execution_count": 34,
   "metadata": {},
   "outputs": [],
   "source": [
    "# List all Entities\n",
    "articles = reuters.raw(categories='Ethereum')\n"
   ]
  },
  {
   "cell_type": "markdown",
   "metadata": {},
   "source": [
    "---"
   ]
  }
 ],
 "metadata": {
  "file_extension": ".py",
  "kernelspec": {
   "display_name": "Python 3",
   "language": "python",
   "name": "python3"
  },
  "language_info": {
   "codemirror_mode": {
    "name": "ipython",
    "version": 3
   },
   "file_extension": ".py",
   "mimetype": "text/x-python",
   "name": "python",
   "nbconvert_exporter": "python",
   "pygments_lexer": "ipython3",
   "version": "3.8.8"
  },
  "mimetype": "text/x-python",
  "name": "python",
  "npconvert_exporter": "python",
  "pygments_lexer": "ipython3",
  "version": 3
 },
 "nbformat": 4,
 "nbformat_minor": 4
}
